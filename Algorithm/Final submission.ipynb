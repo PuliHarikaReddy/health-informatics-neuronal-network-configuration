{
 "cells": [
  {
   "cell_type": "code",
   "execution_count": 1,
   "id": "34e7803c",
   "metadata": {},
   "outputs": [],
   "source": [
    "import numpy as np"
   ]
  },
  {
   "cell_type": "code",
   "execution_count": 2,
   "id": "9aae2173",
   "metadata": {},
   "outputs": [
    {
     "name": "stdout",
     "output_type": "stream",
     "text": [
      "enter the value of n6\n",
      "[[ 7.37036667 10.67476784 10.68850025  8.21808881]\n",
      " [ 4.35740356 15.16641024  4.22490426  7.72534637]\n",
      " [ 6.69193189 12.00827374  1.12713077  8.9298673 ]\n",
      " [ 3.51389782 10.37371715  2.26654981  3.42780131]\n",
      " [ 3.29734708  7.4224616   8.07247889  7.87773412]\n",
      " [12.93884329  5.47234504 11.19071697 13.2897298 ]]\n"
     ]
    }
   ],
   "source": [
    "n=int(input(\"enter the value of n\"))\n",
    "\n",
    "umbr=np.random.uniform(0,1,size=(1,n))\n",
    "\n",
    "\n",
    "beta=np.random.randint(0,5,size=(1,n))\n",
    "\n",
    "\n",
    "\n",
    "kr=np.random.randint(-5,5,size=(1,n))\n",
    "\n",
    "\n",
    "maxcount=np.random.randint(50,100,size=(1,n))\n",
    "\n",
    "a=np.random.uniform(1,16,size=(4,n))\n",
    "print(a.T)\n"
   ]
  },
  {
   "cell_type": "code",
   "execution_count": 3,
   "id": "76418549",
   "metadata": {},
   "outputs": [
    {
     "name": "stdout",
     "output_type": "stream",
     "text": [
      "Enter the number of population 4\n",
      "FG1-1\n",
      " \n",
      "5\n",
      "[[ 5.24916859  4.26767481  6.74226082  4.77860424]\n",
      " [ 3.12845908 10.50303236  3.42260439  3.29635837]\n",
      " [ 2.7773185   3.81341677  1.06360497  2.25391617]\n",
      " [ 2.74941521  1.39762496  1.79617401  1.09513371]\n",
      " [ 2.10510909  4.81226722  3.28497726  2.09793034]\n",
      " [10.65571     2.88111703 11.13324973  1.2916219 ]]\n",
      " \n",
      "FG1-2\n",
      " \n",
      "3\n",
      "[[ 1.51097732  8.42336616  2.78901219  4.82034248]\n",
      " [ 3.53025944 14.19671708  2.29769801  5.33459109]\n",
      " [ 5.79917047  7.48584167  1.05901472  6.68105326]\n",
      " [ 2.84507765  2.07113106  2.14542363  2.22861399]\n",
      " [ 2.82405465  6.26457513  3.28492158  6.88225865]\n",
      " [ 4.12973139  3.25481812  5.6550897   1.52560255]]\n",
      " \n",
      "MG1-1\n",
      " \n",
      "1\n",
      "[[ 2.47435752  9.2671578  10.08117379  2.37828391]\n",
      " [ 2.46237643 11.40563061  1.17417909  6.03192387]\n",
      " [ 4.81313424  9.43385406  1.03288024  2.41806988]\n",
      " [ 3.44621871  5.49092892  1.52200106  3.01361005]\n",
      " [ 1.35527069  7.41971428  4.78181578  7.78004807]\n",
      " [12.29123782  3.21431346  7.59550941  5.7073864 ]]\n",
      " \n",
      "MG1-2\n",
      " \n",
      "3\n",
      "[[ 2.10917185  6.31133204 10.62446586  4.82874736]\n",
      " [ 3.05447769  1.20997863  3.48760344  5.58923241]\n",
      " [ 5.84135411  3.1811651   1.07753837  6.71036145]\n",
      " [ 2.08067879  3.25503008  1.35940068  2.03486583]\n",
      " [ 2.6602002   4.90688925  2.14070301  4.21989345]\n",
      " [ 5.45301279  2.74872922  2.4124174  12.63660404]]\n",
      " \n"
     ]
    }
   ],
   "source": [
    "motherpopulation = dict()\n",
    "numpop = int(input(\"Enter the number of population \"))\n",
    "for i in range(1,(numpop//2)+1):\n",
    "    key = 'FG1-'+str(i)\n",
    "    print(key)\n",
    "    print(' ')\n",
    "    ratio = np.random.randint(5,11) \n",
    "    print(ratio)\n",
    "    value = np.random.uniform(a.T)\n",
    "    print(value)\n",
    "    motherpopulation[key] = [value, ratio]\n",
    "    print(' ')\n",
    "    \n",
    "\n",
    "fatherpopulation = dict()\n",
    "for i in range(1,(numpop//2)+1):\n",
    "    key = 'MG1-'+str(i)\n",
    "    print(key)\n",
    "    print(' ')\n",
    "    ratio = np.random.randint(5,11) \n",
    "    print(ratio)\n",
    "    value = np.random.uniform(a.T)\n",
    "    print(value)\n",
    "    fatherpopulation[key] = [value, ratio]\n",
    "    print(' ')\n",
    "\n",
    "\n"
   ]
  },
  {
   "cell_type": "code",
   "execution_count": 6,
   "id": "d05ead4f",
   "metadata": {},
   "outputs": [
    {
     "name": "stdout",
     "output_type": "stream",
     "text": [
      "{'MG1-1': [array([[ 2.47435752,  9.2671578 , 10.08117379,  2.37828391],\n",
      "       [ 2.46237643, 11.40563061,  1.17417909,  6.03192387],\n",
      "       [ 4.81313424,  9.43385406,  1.03288024,  2.41806988],\n",
      "       [ 3.44621871,  5.49092892,  1.52200106,  3.01361005],\n",
      "       [ 1.35527069,  7.41971428,  4.78181578,  7.78004807],\n",
      "       [12.29123782,  3.21431346,  7.59550941,  5.7073864 ]]), 1], 'MG1-2': [array([[ 2.10917185,  6.31133204, 10.62446586,  4.82874736],\n",
      "       [ 3.05447769,  1.20997863,  3.48760344,  5.58923241],\n",
      "       [ 5.84135411,  3.1811651 ,  1.07753837,  6.71036145],\n",
      "       [ 2.08067879,  3.25503008,  1.35940068,  2.03486583],\n",
      "       [ 2.6602002 ,  4.90688925,  2.14070301,  4.21989345],\n",
      "       [ 5.45301279,  2.74872922,  2.4124174 , 12.63660404]]), 3]}\n",
      "{'FG1-1': [array([[ 5.24916859,  4.26767481,  6.74226082,  4.77860424],\n",
      "       [ 3.12845908, 10.50303236,  3.42260439,  3.29635837],\n",
      "       [ 2.7773185 ,  3.81341677,  1.06360497,  2.25391617],\n",
      "       [ 2.74941521,  1.39762496,  1.79617401,  1.09513371],\n",
      "       [ 2.10510909,  4.81226722,  3.28497726,  2.09793034],\n",
      "       [10.65571   ,  2.88111703, 11.13324973,  1.2916219 ]]), 5], 'FG1-2': [array([[ 1.51097732,  8.42336616,  2.78901219,  4.82034248],\n",
      "       [ 3.53025944, 14.19671708,  2.29769801,  5.33459109],\n",
      "       [ 5.79917047,  7.48584167,  1.05901472,  6.68105326],\n",
      "       [ 2.84507765,  2.07113106,  2.14542363,  2.22861399],\n",
      "       [ 2.82405465,  6.26457513,  3.28492158,  6.88225865],\n",
      "       [ 4.12973139,  3.25481812,  5.6550897 ,  1.52560255]]), 3]}\n",
      "generating baby  1\n",
      "This couple cannot give birth to a fit baby\n",
      "generating baby  2\n",
      "This couple cannot give birth to a fit baby\n",
      "{1: 3.0}\n"
     ]
    }
   ],
   "source": [
    "print(fatherpopulation, motherpopulation, sep='\\n')\n",
    "generation=1\n",
    "def assignbaby():\n",
    "    # This method picks a gender for the baby randomly\n",
    "    let = [ 'M', 'F']     \n",
    "    import random\n",
    "    pos = random.randint(0,1)\n",
    "    letter = let[pos]\n",
    "    return letter\n",
    "\n",
    "def avg_fitness_per_gen(fatherpopulation, motherpopulation):\n",
    "  # This method calculates the average of the fitness ratio \n",
    "  # for each generation in the current population\n",
    "  generation_count = dict()\n",
    "  for key in fatherpopulation.keys():\n",
    "    hyphen_ind = key.find('-')\n",
    "    gen_int = int(key[2:hyphen_ind])\n",
    "    gen_list = generation_count.get(gen_int, [])\n",
    "    gen_list.append(fatherpopulation[key][1])\n",
    "    generation_count[gen_int] = gen_list\n",
    "\n",
    "  for key in motherpopulation.keys():\n",
    "    hyphen_ind = key.find('-')\n",
    "    gen_int = int(key[2:hyphen_ind])\n",
    "    gen_list = generation_count.get(gen_int, [])\n",
    "    gen_list.append(motherpopulation[key][1])\n",
    "    generation_count[gen_int] = gen_list\n",
    "\n",
    "  gen_avg_fitness = dict()\n",
    "  for key in generation_count.keys():\n",
    "    avg = sum(generation_count[key]) / len(generation_count[key])\n",
    "    gen_avg_fitness[key] = gen_avg_fitness.get(key, 0.0) + avg\n",
    "  return gen_avg_fitness\n",
    "\n",
    "def create_baby(father, mother, number, generation):\n",
    "    # If both father and mother are unfit, not creating a baby\n",
    "    if father[1] < 6 and mother[1] < 6: return ('', '') \n",
    "    # choosing a number at random to represent the choice of rows from mother\n",
    "    # and father matrices (if a bit is 0 that index is filled with mother's row\n",
    "    # else filled with father's row at that index) to get the baby matrix\n",
    "    r=((2**n)-2)\n",
    "    comb = np.random.randint(1,r,size=1)[0]\n",
    "    # to ensure we get 4 bits (removing zfill strips the leading zeros if any)\n",
    "    bin_comb = bin(comb)[2:].zfill(n)\n",
    "    #debug print, can be removed\n",
    "    print(\"bin_comb: \", bin_comb)\n",
    "    baby = []\n",
    "    for i in range(len(bin_comb)):\n",
    "        if bin_comb[i] == '0': baby.append(mother[0][i])\n",
    "        else: baby.append(father[0][i])\n",
    "    baby = np.asarray(baby)\n",
    "    baby_fr =np.random.randint(5,11)\n",
    "    baby_gender=assignbaby()\n",
    "    key = baby_gender+'G' + str(generation + 1) + '-' + str(number)\n",
    "    if baby_gender == 'F':\n",
    "        motherpopulation[key] = [baby, baby_fr]\n",
    "    else:\n",
    "        fatherpopulation[key] = [baby, baby_fr]\n",
    "    return (baby_gender, key)\n",
    "\n",
    "for i in range(1, (numpop//2)+1):\n",
    "    print(\"generating baby \", i)\n",
    "    father_key = 'MG1-'+str(i)\n",
    "    mother_key = 'FG1-'+str(i)\n",
    "    baby_gender, baby_title = create_baby(fatherpopulation[father_key], \n",
    "                                          motherpopulation[mother_key], \n",
    "                                          i, generation)\n",
    "    if baby_title != '':\n",
    "        print(baby_title)\n",
    "    else:\n",
    "        print(\"This couple cannot give birth to a fit baby\")\n",
    "    if baby_gender == 'F':\n",
    "        print(motherpopulation[baby_title])\n",
    "    elif baby_gender == 'M':\n",
    "        print(fatherpopulation[baby_title])\n",
    "generation += 1 # Manual Gen-2 creation\n",
    "print(avg_fitness_per_gen(fatherpopulation, motherpopulation))"
   ]
  },
  {
   "cell_type": "code",
   "execution_count": null,
   "id": "7487523a",
   "metadata": {},
   "outputs": [],
   "source": [
    "def create_pop_matrix():\n",
    "  # This method creates a list of all the titles currently\n",
    "  # \"alive\" in the father / mother population\n",
    "  # This is needed to update the population after every\n",
    "  # death / birth cycle later in this document\n",
    "  pop_matrix = []\n",
    "  for key in fatherpopulation.keys():\n",
    "    pop_matrix.append(key)\n",
    "  for key in motherpopulation.keys():\n",
    "    pop_matrix.append(key)\n",
    "  return pop_matrix\n",
    "pop_matrix = create_pop_matrix()\n",
    "print(pop_matrix)\n",
    "\n",
    "def delete_min(pop_matrix):\n",
    "  # This method is used to simulate the \n",
    "  # \"death of the least fit\" in the population.\n",
    "  # Simply picking minimum in the population\n",
    "  min_fr = 11\n",
    "  min_title = \"\"\n",
    "\n",
    "  for title in pop_matrix:\n",
    "    if title[0]=='M' and fatherpopulation[title][1] < min_fr:\n",
    "      min_fr = fatherpopulation[title][1]\n",
    "      min_title = title\n",
    "    if title[0]=='F' and motherpopulation[title][1] < min_fr:\n",
    "      min_fr = motherpopulation[title][1]\n",
    "      min_title = title\n",
    "\n",
    "  if min_title[0]=='M':\n",
    "    del fatherpopulation[min_title]\n",
    "  else:\n",
    "    del motherpopulation[min_title]\n",
    "  \n",
    "  return min_title\n",
    "\n",
    "def createnextgen(pop_matrix, death_ratio, generation):\n",
    "  # This method simulates one cycle of the death / birth\n",
    "  # cycle by killing floor(population * death_ratio / 100)\n",
    "  # titles and replacing them with the next generation \n",
    "  import random\n",
    "  #death_ratio = int(input(\"Enter the death ratio (0 - 30 %): \"))\n",
    "  for baby_no in range(len(pop_matrix)*death_ratio//100):\n",
    "    deleted_title = delete_min(pop_matrix)\n",
    "    print(\"Death of ->\", deleted_title)\n",
    "    father_title = str(random.choice(list(fatherpopulation.keys())))\n",
    "    mother_title = str(random.choice(list(motherpopulation.keys())))\n",
    "    baby_gender, baby_title = create_baby(fatherpopulation[father_title], \n",
    "                                          motherpopulation[mother_title], \n",
    "                                          baby_no+1, generation)\n",
    "    pop_matrix = create_pop_matrix()\n",
    "    #print(motherpopulation,fatherpopulation)\n",
    "    #print(pop_matrix)\n",
    "  return pop_matrix\n"
   ]
  },
  {
   "cell_type": "code",
   "execution_count": null,
   "id": "3b0ed15b",
   "metadata": {},
   "outputs": [],
   "source": [
    "gc = int(input(\"Enter No. of Generations: \"))\n",
    "generation = 2\n",
    "dr=int(input(\"Enter the death ratio (0 - 30 %): \"))\n",
    "for _ in range(gc):\n",
    "  pop_matrix = createnextgen(pop_matrix, dr, generation)\n",
    "  generation += 1\n",
    "  print(pop_matrix)\n",
    "  print(avg_fitness_per_gen(fatherpopulation, motherpopulation))"
   ]
  },
  {
   "cell_type": "code",
   "execution_count": null,
   "id": "d5c9d5eb",
   "metadata": {},
   "outputs": [],
   "source": [
    "print(pop_matrix)"
   ]
  },
  {
   "cell_type": "code",
   "execution_count": null,
   "id": "c10fbe0e",
   "metadata": {},
   "outputs": [],
   "source": [
    "import matplotlib.pyplot as plt\n",
    "plt.hist(pop_matrix)\n",
    "plt.show()"
   ]
  },
  {
   "cell_type": "code",
   "execution_count": null,
   "id": "285ed119",
   "metadata": {},
   "outputs": [],
   "source": []
  },
  {
   "cell_type": "code",
   "execution_count": 5,
   "id": "c2464c62",
   "metadata": {},
   "outputs": [
    {
     "ename": "NameError",
     "evalue": "name 'FG1' is not defined",
     "output_type": "error",
     "traceback": [
      "\u001b[0;31m---------------------------------------------------------------------------\u001b[0m",
      "\u001b[0;31mNameError\u001b[0m                                 Traceback (most recent call last)",
      "Input \u001b[0;32mIn [5]\u001b[0m, in \u001b[0;36m<cell line: 1>\u001b[0;34m()\u001b[0m\n\u001b[0;32m----> 1\u001b[0m motherpopulation[\u001b[43mFG1\u001b[49m\u001b[38;5;241m-\u001b[39m\u001b[38;5;241m1\u001b[39m]\n\u001b[1;32m      3\u001b[0m \u001b[38;5;28mprint\u001b[39m(motherpopulation)\n",
      "\u001b[0;31mNameError\u001b[0m: name 'FG1' is not defined"
     ]
    }
   ],
   "source": []
  },
  {
   "cell_type": "code",
   "execution_count": 7,
   "id": "015ca982",
   "metadata": {},
   "outputs": [
    {
     "name": "stdout",
     "output_type": "stream",
     "text": [
      "{'FG1-1': [array([[ 5.24916859,  4.26767481,  6.74226082,  4.77860424],\n",
      "       [ 3.12845908, 10.50303236,  3.42260439,  3.29635837],\n",
      "       [ 2.7773185 ,  3.81341677,  1.06360497,  2.25391617],\n",
      "       [ 2.74941521,  1.39762496,  1.79617401,  1.09513371],\n",
      "       [ 2.10510909,  4.81226722,  3.28497726,  2.09793034],\n",
      "       [10.65571   ,  2.88111703, 11.13324973,  1.2916219 ]]), 5], 'FG1-2': [array([[ 1.51097732,  8.42336616,  2.78901219,  4.82034248],\n",
      "       [ 3.53025944, 14.19671708,  2.29769801,  5.33459109],\n",
      "       [ 5.79917047,  7.48584167,  1.05901472,  6.68105326],\n",
      "       [ 2.84507765,  2.07113106,  2.14542363,  2.22861399],\n",
      "       [ 2.82405465,  6.26457513,  3.28492158,  6.88225865],\n",
      "       [ 4.12973139,  3.25481812,  5.6550897 ,  1.52560255]]), 3]}\n"
     ]
    }
   ],
   "source": [
    "print(motherpopulation)"
   ]
  },
  {
   "cell_type": "code",
   "execution_count": 8,
   "id": "5b02f652",
   "metadata": {},
   "outputs": [
    {
     "name": "stdout",
     "output_type": "stream",
     "text": [
      "{'MG1-1': [array([[ 2.47435752,  9.2671578 , 10.08117379,  2.37828391],\n",
      "       [ 2.46237643, 11.40563061,  1.17417909,  6.03192387],\n",
      "       [ 4.81313424,  9.43385406,  1.03288024,  2.41806988],\n",
      "       [ 3.44621871,  5.49092892,  1.52200106,  3.01361005],\n",
      "       [ 1.35527069,  7.41971428,  4.78181578,  7.78004807],\n",
      "       [12.29123782,  3.21431346,  7.59550941,  5.7073864 ]]), 1], 'MG1-2': [array([[ 2.10917185,  6.31133204, 10.62446586,  4.82874736],\n",
      "       [ 3.05447769,  1.20997863,  3.48760344,  5.58923241],\n",
      "       [ 5.84135411,  3.1811651 ,  1.07753837,  6.71036145],\n",
      "       [ 2.08067879,  3.25503008,  1.35940068,  2.03486583],\n",
      "       [ 2.6602002 ,  4.90688925,  2.14070301,  4.21989345],\n",
      "       [ 5.45301279,  2.74872922,  2.4124174 , 12.63660404]]), 3]}\n"
     ]
    }
   ],
   "source": [
    "print(fatherpopulation)"
   ]
  },
  {
   "cell_type": "code",
   "execution_count": null,
   "id": "03539db6",
   "metadata": {},
   "outputs": [],
   "source": []
  }
 ],
 "metadata": {
  "kernelspec": {
   "display_name": "Python 3 (ipykernel)",
   "language": "python",
   "name": "python3"
  },
  "language_info": {
   "codemirror_mode": {
    "name": "ipython",
    "version": 3
   },
   "file_extension": ".py",
   "mimetype": "text/x-python",
   "name": "python",
   "nbconvert_exporter": "python",
   "pygments_lexer": "ipython3",
   "version": "3.9.12"
  }
 },
 "nbformat": 4,
 "nbformat_minor": 5
}
