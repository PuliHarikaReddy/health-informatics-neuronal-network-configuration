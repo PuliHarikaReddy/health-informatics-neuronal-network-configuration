{
 "cells": [
  {
   "cell_type": "code",
   "execution_count": null,
   "id": "0980055b",
   "metadata": {},
   "outputs": [],
   "source": [
    "#to calculate fitness_score using y6\n",
    "C=[]\n",
    "for i in range(0,len(A)):\n",
    "    for j in range(0,len(B)):\n",
    "        temp=A[i] & B[j]\n",
    "        C.append(temp)\n",
    "    break\n",
    "output_comparison=[]\n",
    "for i in range(0,len(C)):\n",
    "    for j in range(0,len(y6)):\n",
    "        temp=C[i].astype(int) & math.ceil(y6[j])\n",
    "        output_comparison.append(temp)\n",
    "    break\n",
    "avg_output_comparison=sum(output_comparison)/len(output_comparison)\n",
    "avg_c=sum(C)/len(C)\n",
    "avg_score=avg_output_comparison/avg_c\n",
    "fitness_score=avg_score*10"
   ]
  }
 ],
 "metadata": {
  "kernelspec": {
   "display_name": "Python 3 (ipykernel)",
   "language": "python",
   "name": "python3"
  },
  "language_info": {
   "codemirror_mode": {
    "name": "ipython",
    "version": 3
   },
   "file_extension": ".py",
   "mimetype": "text/x-python",
   "name": "python",
   "nbconvert_exporter": "python",
   "pygments_lexer": "ipython3",
   "version": "3.9.7"
  }
 },
 "nbformat": 4,
 "nbformat_minor": 5
}
